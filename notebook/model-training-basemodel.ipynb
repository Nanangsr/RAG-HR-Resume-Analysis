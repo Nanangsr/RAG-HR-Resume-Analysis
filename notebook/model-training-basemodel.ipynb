{
 "cells": [
  {
   "cell_type": "markdown",
   "metadata": {},
   "source": [
    "# Resume Scoring Model Development Notebook (Updated for New Dataset)\n",
    "\n",
    "**Dataset Structure:**\n",
    "- Resume_ID: Unique ID\n",
    "- Name: Candidate name\n",
    "- Skills: Skills list\n",
    "- Experience (Years): Years of experience\n",
    "- Education: Education level\n",
    "- Certifications: Certifications (some missing)\n",
    "- Job Role: Target job role\n",
    "- Recruiter Decision: Hiring decision\n",
    "- Salary Expectation ($): Expected salary\n",
    "- Projects Count: Number of projects\n",
    "- AI Score (0-100): Target variable"
   ]
  },
  {
   "cell_type": "code",
   "execution_count": null,
   "metadata": {
    "execution": {
     "iopub.execute_input": "2025-05-14T15:51:42.161781Z",
     "iopub.status.busy": "2025-05-14T15:51:42.160827Z",
     "iopub.status.idle": "2025-05-14T15:51:53.089722Z",
     "shell.execute_reply": "2025-05-14T15:51:53.089037Z",
     "shell.execute_reply.started": "2025-05-14T15:51:42.161746Z"
    },
    "trusted": true
   },
   "outputs": [
    {
     "name": "stdout",
     "output_type": "stream",
     "text": [
      "Requirement already satisfied: xgboost in c:\\users\\asus\\downloads\\mbkm datains\\rag cv\\.venv\\lib\\site-packages (3.0.1)\n",
      "Requirement already satisfied: numpy in c:\\users\\asus\\downloads\\mbkm datains\\rag cv\\.venv\\lib\\site-packages (from xgboost) (2.2.5)\n",
      "Requirement already satisfied: scipy in c:\\users\\asus\\downloads\\mbkm datains\\rag cv\\.venv\\lib\\site-packages (from xgboost) (1.15.2)\n",
      "Note: you may need to restart the kernel to use updated packages.\n"
     ]
    },
    {
     "name": "stderr",
     "output_type": "stream",
     "text": [
      "\n",
      "[notice] A new release of pip is available: 25.0.1 -> 25.1.1\n",
      "[notice] To update, run: python.exe -m pip install --upgrade pip\n"
     ]
    },
    {
     "name": "stdout",
     "output_type": "stream",
     "text": [
      "Requirement already satisfied: lightgbm in c:\\users\\asus\\downloads\\mbkm datains\\rag cv\\.venv\\lib\\site-packages (4.6.0)\n",
      "Requirement already satisfied: numpy>=1.17.0 in c:\\users\\asus\\downloads\\mbkm datains\\rag cv\\.venv\\lib\\site-packages (from lightgbm) (2.2.5)\n",
      "Requirement already satisfied: scipy in c:\\users\\asus\\downloads\\mbkm datains\\rag cv\\.venv\\lib\\site-packages (from lightgbm) (1.15.2)\n",
      "Note: you may need to restart the kernel to use updated packages.\n"
     ]
    },
    {
     "name": "stderr",
     "output_type": "stream",
     "text": [
      "\n",
      "[notice] A new release of pip is available: 25.0.1 -> 25.1.1\n",
      "[notice] To update, run: python.exe -m pip install --upgrade pip\n"
     ]
    }
   ],
   "source": [
    "%pip install pandas\n",
    "%pip install xgboost\n",
    "%pip install lightgbm\n",
    "\n",
    "import pandas as pd # type: ignore\n",
    "import numpy as np # type: ignore\n",
    "import matplotlib.pyplot as plt # type: ignore\n",
    "import seaborn as sns # type: ignore\n",
    "from sklearn.model_selection import train_test_split, GridSearchCV # type: ignore\n",
    "from sklearn.preprocessing import StandardScaler, OneHotEncoder # type: ignore\n",
    "from sklearn.compose import ColumnTransformer # type: ignore\n",
    "from sklearn.pipeline import Pipeline # type: ignore\n",
    "from sklearn.feature_extraction.text import TfidfVectorizer # type: ignore\n",
    "from sklearn.metrics import mean_absolute_error, mean_squared_error, r2_score # type: ignore\n",
    "from sklearn.svm import SVR # type: ignore\n",
    "from xgboost import XGBRegressor # type: ignore\n",
    "from lightgbm import LGBMRegressor # type: ignore\n",
    "import nltk # type: ignore\n",
    "from nltk.corpus import stopwords # type: ignore\n",
    "import re # type: ignore\n",
    "import joblib # type: ignore"
   ]
  },
  {
   "cell_type": "code",
   "execution_count": 2,
   "metadata": {
    "execution": {
     "iopub.execute_input": "2025-05-14T15:49:03.370584Z",
     "iopub.status.busy": "2025-05-14T15:49:03.370261Z",
     "iopub.status.idle": "2025-05-14T15:49:03.416295Z",
     "shell.execute_reply": "2025-05-14T15:49:03.415331Z",
     "shell.execute_reply.started": "2025-05-14T15:49:03.370553Z"
    },
    "trusted": true
   },
   "outputs": [],
   "source": [
    "# Load dataset\n",
    "df = pd.read_csv('./AI_Resume_Screening.csv')"
   ]
  },
  {
   "cell_type": "markdown",
   "metadata": {},
   "source": [
    "# EDA"
   ]
  },
  {
   "cell_type": "code",
   "execution_count": 3,
   "metadata": {
    "execution": {
     "iopub.execute_input": "2025-05-14T15:49:03.418884Z",
     "iopub.status.busy": "2025-05-14T15:49:03.417993Z",
     "iopub.status.idle": "2025-05-14T15:49:03.563392Z",
     "shell.execute_reply": "2025-05-14T15:49:03.562400Z",
     "shell.execute_reply.started": "2025-05-14T15:49:03.418850Z"
    },
    "trusted": true
   },
   "outputs": [
    {
     "name": "stderr",
     "output_type": "stream",
     "text": [
      "[nltk_data] Downloading package stopwords to\n",
      "[nltk_data]     C:\\Users\\ASUS\\AppData\\Roaming\\nltk_data...\n",
      "[nltk_data]   Package stopwords is already up-to-date!\n"
     ]
    }
   ],
   "source": [
    "# Configuration\n",
    "nltk.download('stopwords')\n",
    "pd.set_option('display.max_columns', None)\n",
    "sns.set_style(\"whitegrid\")\n",
    "plt.rcParams[\"figure.figsize\"] = (12, 6)"
   ]
  },
  {
   "cell_type": "code",
   "execution_count": 4,
   "metadata": {
    "execution": {
     "iopub.execute_input": "2025-05-14T15:49:03.565082Z",
     "iopub.status.busy": "2025-05-14T15:49:03.564767Z",
     "iopub.status.idle": "2025-05-14T15:49:03.584738Z",
     "shell.execute_reply": "2025-05-14T15:49:03.583871Z",
     "shell.execute_reply.started": "2025-05-14T15:49:03.565052Z"
    },
    "trusted": true
   },
   "outputs": [
    {
     "name": "stdout",
     "output_type": "stream",
     "text": [
      "Dataset Info:\n",
      "Shape: (1000, 11)\n",
      "\n",
      "Columns and Non-Null Counts:\n",
      "<class 'pandas.core.frame.DataFrame'>\n",
      "RangeIndex: 1000 entries, 0 to 999\n",
      "Data columns (total 11 columns):\n",
      " #   Column                  Non-Null Count  Dtype \n",
      "---  ------                  --------------  ----- \n",
      " 0   Resume_ID               1000 non-null   int64 \n",
      " 1   Name                    1000 non-null   object\n",
      " 2   Skills                  1000 non-null   object\n",
      " 3   Experience (Years)      1000 non-null   int64 \n",
      " 4   Education               1000 non-null   object\n",
      " 5   Certifications          726 non-null    object\n",
      " 6   Job Role                1000 non-null   object\n",
      " 7   Recruiter Decision      1000 non-null   object\n",
      " 8   Salary Expectation ($)  1000 non-null   int64 \n",
      " 9   Projects Count          1000 non-null   int64 \n",
      " 10  AI Score (0-100)        1000 non-null   int64 \n",
      "dtypes: int64(5), object(6)\n",
      "memory usage: 86.1+ KB\n",
      "None\n",
      "\n",
      "Sample Data:\n"
     ]
    },
    {
     "data": {
      "text/html": [
       "<div>\n",
       "<style scoped>\n",
       "    .dataframe tbody tr th:only-of-type {\n",
       "        vertical-align: middle;\n",
       "    }\n",
       "\n",
       "    .dataframe tbody tr th {\n",
       "        vertical-align: top;\n",
       "    }\n",
       "\n",
       "    .dataframe thead th {\n",
       "        text-align: right;\n",
       "    }\n",
       "</style>\n",
       "<table border=\"1\" class=\"dataframe\">\n",
       "  <thead>\n",
       "    <tr style=\"text-align: right;\">\n",
       "      <th></th>\n",
       "      <th>Resume_ID</th>\n",
       "      <th>Name</th>\n",
       "      <th>Skills</th>\n",
       "      <th>Experience (Years)</th>\n",
       "      <th>Education</th>\n",
       "      <th>Certifications</th>\n",
       "      <th>Job Role</th>\n",
       "      <th>Recruiter Decision</th>\n",
       "      <th>Salary Expectation ($)</th>\n",
       "      <th>Projects Count</th>\n",
       "      <th>AI Score (0-100)</th>\n",
       "    </tr>\n",
       "  </thead>\n",
       "  <tbody>\n",
       "    <tr>\n",
       "      <th>0</th>\n",
       "      <td>1</td>\n",
       "      <td>Ashley Ali</td>\n",
       "      <td>TensorFlow, NLP, Pytorch</td>\n",
       "      <td>10</td>\n",
       "      <td>B.Sc</td>\n",
       "      <td>NaN</td>\n",
       "      <td>AI Researcher</td>\n",
       "      <td>Hire</td>\n",
       "      <td>104895</td>\n",
       "      <td>8</td>\n",
       "      <td>100</td>\n",
       "    </tr>\n",
       "    <tr>\n",
       "      <th>1</th>\n",
       "      <td>2</td>\n",
       "      <td>Wesley Roman</td>\n",
       "      <td>Deep Learning, Machine Learning, Python, SQL</td>\n",
       "      <td>10</td>\n",
       "      <td>MBA</td>\n",
       "      <td>Google ML</td>\n",
       "      <td>Data Scientist</td>\n",
       "      <td>Hire</td>\n",
       "      <td>113002</td>\n",
       "      <td>1</td>\n",
       "      <td>100</td>\n",
       "    </tr>\n",
       "    <tr>\n",
       "      <th>2</th>\n",
       "      <td>3</td>\n",
       "      <td>Corey Sanchez</td>\n",
       "      <td>Ethical Hacking, Cybersecurity, Linux</td>\n",
       "      <td>1</td>\n",
       "      <td>MBA</td>\n",
       "      <td>Deep Learning Specialization</td>\n",
       "      <td>Cybersecurity Analyst</td>\n",
       "      <td>Hire</td>\n",
       "      <td>71766</td>\n",
       "      <td>7</td>\n",
       "      <td>70</td>\n",
       "    </tr>\n",
       "  </tbody>\n",
       "</table>\n",
       "</div>"
      ],
      "text/plain": [
       "   Resume_ID           Name                                        Skills  \\\n",
       "0          1     Ashley Ali                      TensorFlow, NLP, Pytorch   \n",
       "1          2   Wesley Roman  Deep Learning, Machine Learning, Python, SQL   \n",
       "2          3  Corey Sanchez         Ethical Hacking, Cybersecurity, Linux   \n",
       "\n",
       "   Experience (Years) Education                Certifications  \\\n",
       "0                  10      B.Sc                           NaN   \n",
       "1                  10       MBA                     Google ML   \n",
       "2                   1       MBA  Deep Learning Specialization   \n",
       "\n",
       "                Job Role Recruiter Decision  Salary Expectation ($)  \\\n",
       "0          AI Researcher               Hire                  104895   \n",
       "1         Data Scientist               Hire                  113002   \n",
       "2  Cybersecurity Analyst               Hire                   71766   \n",
       "\n",
       "   Projects Count  AI Score (0-100)  \n",
       "0               8               100  \n",
       "1               1               100  \n",
       "2               7                70  "
      ]
     },
     "execution_count": 4,
     "metadata": {},
     "output_type": "execute_result"
    }
   ],
   "source": [
    "# Basic info\n",
    "print(\"Dataset Info:\")\n",
    "print(f\"Shape: {df.shape}\")\n",
    "print(\"\\nColumns and Non-Null Counts:\")\n",
    "print(df.info())\n",
    "print(\"\\nSample Data:\")\n",
    "df.head(3)"
   ]
  },
  {
   "cell_type": "code",
   "execution_count": 5,
   "metadata": {
    "execution": {
     "iopub.execute_input": "2025-05-14T15:49:03.585785Z",
     "iopub.status.busy": "2025-05-14T15:49:03.585539Z",
     "iopub.status.idle": "2025-05-14T15:49:03.601050Z",
     "shell.execute_reply": "2025-05-14T15:49:03.599984Z",
     "shell.execute_reply.started": "2025-05-14T15:49:03.585766Z"
    },
    "trusted": true
   },
   "outputs": [
    {
     "name": "stdout",
     "output_type": "stream",
     "text": [
      "\n",
      "Missing Values Analysis:\n",
      "Certifications    274\n",
      "dtype: int64\n"
     ]
    }
   ],
   "source": [
    "# Missing values analysis\n",
    "print(\"\\nMissing Values Analysis:\")\n",
    "print(df.isnull().sum()[df.isnull().sum() > 0])"
   ]
  },
  {
   "cell_type": "code",
   "execution_count": 6,
   "metadata": {
    "execution": {
     "iopub.execute_input": "2025-05-14T15:49:03.604355Z",
     "iopub.status.busy": "2025-05-14T15:49:03.603372Z",
     "iopub.status.idle": "2025-05-14T15:49:04.004661Z",
     "shell.execute_reply": "2025-05-14T15:49:04.003796Z",
     "shell.execute_reply.started": "2025-05-14T15:49:03.604322Z"
    },
    "trusted": true
   },
   "outputs": [
    {
     "data": {
      "image/png": "[encoded data removed]",
      "text/plain": [
       "<Figure size 1000x600 with 1 Axes>"
      ]
     },
     "metadata": {},
     "output_type": "display_data"
    }
   ],
   "source": [
    "# Target distribution\n",
    "plt.figure(figsize=(10, 6))\n",
    "sns.histplot(df['AI Score (0-100)'], bins=30, kde=True)\n",
    "plt.title('Distribution of AI Scores')\n",
    "plt.xlabel('Score (0-100)')\n",
    "plt.ylabel('Count')\n",
    "plt.show()"
   ]
  },
  {
   "cell_type": "code",
   "execution_count": 7,
   "metadata": {
    "execution": {
     "iopub.execute_input": "2025-05-14T15:49:04.005945Z",
     "iopub.status.busy": "2025-05-14T15:49:04.005630Z",
     "iopub.status.idle": "2025-05-14T15:49:04.026734Z",
     "shell.execute_reply": "2025-05-14T15:49:04.026035Z",
     "shell.execute_reply.started": "2025-05-14T15:49:04.005919Z"
    },
    "trusted": true
   },
   "outputs": [
    {
     "data": {
      "text/html": [
       "<div>\n",
       "<style scoped>\n",
       "    .dataframe tbody tr th:only-of-type {\n",
       "        vertical-align: middle;\n",
       "    }\n",
       "\n",
       "    .dataframe tbody tr th {\n",
       "        vertical-align: top;\n",
       "    }\n",
       "\n",
       "    .dataframe thead th {\n",
       "        text-align: right;\n",
       "    }\n",
       "</style>\n",
       "<table border=\"1\" class=\"dataframe\">\n",
       "  <thead>\n",
       "    <tr style=\"text-align: right;\">\n",
       "      <th></th>\n",
       "      <th>Experience (Years)</th>\n",
       "      <th>Salary Expectation ($)</th>\n",
       "      <th>Projects Count</th>\n",
       "    </tr>\n",
       "  </thead>\n",
       "  <tbody>\n",
       "    <tr>\n",
       "      <th>count</th>\n",
       "      <td>1000.000000</td>\n",
       "      <td>1000.000000</td>\n",
       "      <td>1000.00000</td>\n",
       "    </tr>\n",
       "    <tr>\n",
       "      <th>mean</th>\n",
       "      <td>4.896000</td>\n",
       "      <td>79994.486000</td>\n",
       "      <td>5.13300</td>\n",
       "    </tr>\n",
       "    <tr>\n",
       "      <th>std</th>\n",
       "      <td>3.112695</td>\n",
       "      <td>23048.472549</td>\n",
       "      <td>3.23137</td>\n",
       "    </tr>\n",
       "    <tr>\n",
       "      <th>min</th>\n",
       "      <td>0.000000</td>\n",
       "      <td>40085.000000</td>\n",
       "      <td>0.00000</td>\n",
       "    </tr>\n",
       "    <tr>\n",
       "      <th>25%</th>\n",
       "      <td>2.000000</td>\n",
       "      <td>60415.750000</td>\n",
       "      <td>2.00000</td>\n",
       "    </tr>\n",
       "    <tr>\n",
       "      <th>50%</th>\n",
       "      <td>5.000000</td>\n",
       "      <td>79834.500000</td>\n",
       "      <td>5.00000</td>\n",
       "    </tr>\n",
       "    <tr>\n",
       "      <th>75%</th>\n",
       "      <td>8.000000</td>\n",
       "      <td>99583.250000</td>\n",
       "      <td>8.00000</td>\n",
       "    </tr>\n",
       "    <tr>\n",
       "      <th>max</th>\n",
       "      <td>10.000000</td>\n",
       "      <td>119901.000000</td>\n",
       "      <td>10.00000</td>\n",
       "    </tr>\n",
       "  </tbody>\n",
       "</table>\n",
       "</div>"
      ],
      "text/plain": [
       "       Experience (Years)  Salary Expectation ($)  Projects Count\n",
       "count         1000.000000             1000.000000      1000.00000\n",
       "mean             4.896000            79994.486000         5.13300\n",
       "std              3.112695            23048.472549         3.23137\n",
       "min              0.000000            40085.000000         0.00000\n",
       "25%              2.000000            60415.750000         2.00000\n",
       "50%              5.000000            79834.500000         5.00000\n",
       "75%              8.000000            99583.250000         8.00000\n",
       "max             10.000000           119901.000000        10.00000"
      ]
     },
     "execution_count": 7,
     "metadata": {},
     "output_type": "execute_result"
    }
   ],
   "source": [
    "# Numerical features analysis\n",
    "num_cols = ['Experience (Years)', 'Salary Expectation ($)', 'Projects Count']\n",
    "df[num_cols].describe()"
   ]
  },
  {
   "cell_type": "code",
   "execution_count": 8,
   "metadata": {
    "execution": {
     "iopub.execute_input": "2025-05-14T15:49:04.028042Z",
     "iopub.status.busy": "2025-05-14T15:49:04.027711Z",
     "iopub.status.idle": "2025-05-14T15:49:04.715048Z",
     "shell.execute_reply": "2025-05-14T15:49:04.714259Z",
     "shell.execute_reply.started": "2025-05-14T15:49:04.028016Z"
    },
    "trusted": true
   },
   "outputs": [
    {
     "name": "stdout",
     "output_type": "stream",
     "text": [
      "\n",
      "Education Value Counts:\n",
      "Education\n",
      "B.Sc      205\n",
      "MBA       202\n",
      "B.Tech    200\n",
      "M.Tech    198\n",
      "PhD       195\n",
      "Name: count, dtype: int64\n"
     ]
    },
    {
     "data": {
      "image/png": "[encoded data removed]",
      "text/plain": [
       "<Figure size 1000x500 with 1 Axes>"
      ]
     },
     "metadata": {},
     "output_type": "display_data"
    },
    {
     "name": "stdout",
     "output_type": "stream",
     "text": [
      "\n",
      "Job Role Value Counts:\n",
      "Job Role\n",
      "AI Researcher            257\n",
      "Data Scientist           255\n",
      "Cybersecurity Analyst    255\n",
      "Software Engineer        233\n",
      "Name: count, dtype: int64\n"
     ]
    },
    {
     "data": {
      "image/png": "[encoded data removed]",
      "text/plain": [
       "<Figure size 1000x500 with 1 Axes>"
      ]
     },
     "metadata": {},
     "output_type": "display_data"
    },
    {
     "name": "stdout",
     "output_type": "stream",
     "text": [
      "\n",
      "Recruiter Decision Value Counts:\n",
      "Recruiter Decision\n",
      "Hire      812\n",
      "Reject    188\n",
      "Name: count, dtype: int64\n"
     ]
    },
    {
     "data": {
      "image/png": "[encoded data removed]",
      "text/plain": [
       "<Figure size 1000x500 with 1 Axes>"
      ]
     },
     "metadata": {},
     "output_type": "display_data"
    }
   ],
   "source": [
    "# Categorical features analysis\n",
    "cat_cols = ['Education', 'Job Role', 'Recruiter Decision']\n",
    "\n",
    "for col in cat_cols:\n",
    "    print(f\"\\n{col} Value Counts:\")\n",
    "    print(df[col].value_counts())\n",
    "    \n",
    "    plt.figure(figsize=(10, 5))\n",
    "    sns.countplot(y=col, data=df, order=df[col].value_counts().index)\n",
    "    plt.title(f'Distribution of {col}')\n",
    "    plt.show()"
   ]
  },
  {
   "cell_type": "code",
   "execution_count": 9,
   "metadata": {
    "execution": {
     "iopub.execute_input": "2025-05-14T15:49:04.716083Z",
     "iopub.status.busy": "2025-05-14T15:49:04.715847Z",
     "iopub.status.idle": "2025-05-14T15:49:04.725774Z",
     "shell.execute_reply": "2025-05-14T15:49:04.724841Z",
     "shell.execute_reply.started": "2025-05-14T15:49:04.716064Z"
    },
    "trusted": true
   },
   "outputs": [
    {
     "name": "stdout",
     "output_type": "stream",
     "text": [
      "\n",
      "Skills Count Statistics:\n",
      "count    1000.000000\n",
      "mean        3.017000\n",
      "std         0.805829\n",
      "min         2.000000\n",
      "25%         2.000000\n",
      "50%         3.000000\n",
      "75%         4.000000\n",
      "max         4.000000\n",
      "Name: Skills_Count, dtype: float64\n"
     ]
    }
   ],
   "source": [
    "# Skills analysis (example of processing list-like data)\n",
    "df['Skills_Count'] = df['Skills'].apply(lambda x: len(x.split(',')))\n",
    "print(\"\\nSkills Count Statistics:\")\n",
    "print(df['Skills_Count'].describe())"
   ]
  },
  {
   "cell_type": "markdown",
   "metadata": {},
   "source": [
    "# Preprocesing"
   ]
  },
  {
   "cell_type": "code",
   "execution_count": 10,
   "metadata": {
    "execution": {
     "iopub.execute_input": "2025-05-14T15:49:04.727005Z",
     "iopub.status.busy": "2025-05-14T15:49:04.726726Z",
     "iopub.status.idle": "2025-05-14T15:49:04.767062Z",
     "shell.execute_reply": "2025-05-14T15:49:04.766308Z",
     "shell.execute_reply.started": "2025-05-14T15:49:04.726974Z"
    },
    "trusted": true
   },
   "outputs": [],
   "source": [
    "def enhanced_text_cleaning(text):\n",
    "    \"\"\"Advanced text cleaning pipeline\"\"\"\n",
    "    if pd.isna(text):\n",
    "        return \"\"\n",
    "    \n",
    "    text = str(text).lower()\n",
    "    text = re.sub(r'[^a-zA-Z0-9\\s.,;!?]', '', text)\n",
    "    text = re.sub(r'\\b(b\\.?sc|bachelor|bs)\\b', 'bachelor', text)\n",
    "    text = re.sub(r'\\b(m\\.?sc|master|ms)\\b', 'master', text)\n",
    "    text = re.sub(r'\\b(ph\\.?d|doctorate)\\b', 'phd', text)\n",
    "    \n",
    "    return text.strip()\n",
    "\n",
    "def create_features(df):\n",
    "    \"\"\"Create advanced features\"\"\"\n",
    "    # Text cleaning\n",
    "    text_cols = ['Skills', 'Education', 'Certifications', 'Job Role']\n",
    "    for col in text_cols:\n",
    "        df[col] = df[col].apply(enhanced_text_cleaning)\n",
    "    \n",
    "    # Handle missing values\n",
    "    df['Certifications'] = df['Certifications'].fillna('none')\n",
    "    \n",
    "    # Create count features\n",
    "    df['Skills_Count'] = df['Skills'].apply(lambda x: len(x.split(',')))\n",
    "    df['Certs_Count'] = df['Certifications'].apply(lambda x: 0 if x == 'none' else len(x.split(',')))\n",
    "    \n",
    "    # Create interaction features\n",
    "    df['Exp_Skill_Interaction'] = df['Experience (Years)'] * df['Skills_Count']\n",
    "    df['Salary_Project_Ratio'] = df['Salary Expectation ($)'] / (df['Projects Count'] + 1)\n",
    "    \n",
    "    # Create binary features\n",
    "    df['Has_PhD'] = df['Education'].str.contains('phd|doctorate').astype(int)\n",
    "    \n",
    "    return df\n",
    "\n",
    "# Apply preprocessing\n",
    "processed_df = create_features(df.copy())"
   ]
  },
  {
   "cell_type": "code",
   "execution_count": 11,
   "metadata": {
    "execution": {
     "iopub.execute_input": "2025-05-14T15:49:04.768159Z",
     "iopub.status.busy": "2025-05-14T15:49:04.767929Z",
     "iopub.status.idle": "2025-05-14T15:49:04.773025Z",
     "shell.execute_reply": "2025-05-14T15:49:04.772135Z",
     "shell.execute_reply.started": "2025-05-14T15:49:04.768141Z"
    },
    "trusted": true
   },
   "outputs": [],
   "source": [
    "# Define features and target\n",
    "numerical_features = [\n",
    "    'Experience (Years)', \n",
    "    'Salary Expectation ($)',\n",
    "    'Projects Count',\n",
    "    'Skills_Count',\n",
    "    'Certs_Count',\n",
    "    'Exp_Skill_Interaction',\n",
    "    'Salary_Project_Ratio',\n",
    "    'Has_PhD'\n",
    "]\n",
    "\n",
    "categorical_features = ['Job Role']\n",
    "text_features = 'Combined_Text'\n",
    "target = 'AI Score (0-100)'"
   ]
  },
  {
   "cell_type": "code",
   "execution_count": 12,
   "metadata": {
    "execution": {
     "iopub.execute_input": "2025-05-14T15:49:04.776021Z",
     "iopub.status.busy": "2025-05-14T15:49:04.775768Z",
     "iopub.status.idle": "2025-05-14T15:49:04.796549Z",
     "shell.execute_reply": "2025-05-14T15:49:04.795771Z",
     "shell.execute_reply.started": "2025-05-14T15:49:04.775993Z"
    },
    "trusted": true
   },
   "outputs": [],
   "source": [
    "# Create combined text feature\n",
    "processed_df['Combined_Text'] = (\n",
    "    processed_df['Education'] + \" \" + \n",
    "    processed_df['Skills'] + \" \" + \n",
    "    processed_df['Certifications']\n",
    ")\n",
    "\n",
    "# Train-test split\n",
    "X_train, X_test, y_train, y_test = train_test_split(\n",
    "    processed_df[numerical_features + categorical_features + [text_features]],\n",
    "    processed_df[target],\n",
    "    test_size=0.2,\n",
    "    random_state=42\n",
    ")"
   ]
  },
  {
   "cell_type": "code",
   "execution_count": 13,
   "metadata": {
    "execution": {
     "iopub.execute_input": "2025-05-14T15:52:00.852632Z",
     "iopub.status.busy": "2025-05-14T15:52:00.851420Z",
     "iopub.status.idle": "2025-05-14T15:52:00.866050Z",
     "shell.execute_reply": "2025-05-14T15:52:00.865304Z",
     "shell.execute_reply.started": "2025-05-14T15:52:00.852605Z"
    },
    "trusted": true
   },
   "outputs": [],
   "source": [
    "# Preprocessing pipeline\n",
    "numeric_transformer = Pipeline(steps=[\n",
    "    ('scaler', StandardScaler())\n",
    "])\n",
    "\n",
    "categorical_transformer = Pipeline(steps=[\n",
    "    ('onehot', OneHotEncoder(handle_unknown='ignore'))\n",
    "])\n",
    "\n",
    "text_transformer = Pipeline(steps=[\n",
    "    ('tfidf', TfidfVectorizer(\n",
    "        max_features=1000,\n",
    "        stop_words=stopwords.words('english'),\n",
    "        ngram_range=(1, 2)\n",
    "    ))\n",
    "])\n",
    "\n",
    "preprocessor = ColumnTransformer(\n",
    "    transformers=[\n",
    "        ('num', numeric_transformer, numerical_features),\n",
    "        ('cat', categorical_transformer, categorical_features),\n",
    "        ('text', text_transformer, text_features)\n",
    "    ])"
   ]
  },
  {
   "cell_type": "markdown",
   "metadata": {},
   "source": [
    "# Pemodelan"
   ]
  },
  {
   "cell_type": "code",
   "execution_count": null,
   "metadata": {
    "execution": {
     "iopub.execute_input": "2025-05-14T16:05:09.205366Z",
     "iopub.status.busy": "2025-05-14T16:05:09.204719Z",
     "iopub.status.idle": "2025-05-14T16:05:09.209417Z",
     "shell.execute_reply": "2025-05-14T16:05:09.208670Z",
     "shell.execute_reply.started": "2025-05-14T16:05:09.205339Z"
    },
    "trusted": true
   },
   "outputs": [],
   "source": [
    "from sklearn.ensemble import RandomForestRegressor # type: ignore\n",
    "\n",
    "model_dict = {\n",
    "    'XGBRegressor': XGBRegressor(random_state=42),\n",
    "    'LGBMRegressor': LGBMRegressor(random_state=42),\n",
    "    'RandomForestRegressor': RandomForestRegressor(random_state=42)\n",
    "}"
   ]
  },
  {
   "cell_type": "code",
   "execution_count": 15,
   "metadata": {
    "execution": {
     "iopub.execute_input": "2025-05-14T15:56:01.032768Z",
     "iopub.status.busy": "2025-05-14T15:56:01.031959Z",
     "iopub.status.idle": "2025-05-14T15:56:03.580371Z",
     "shell.execute_reply": "2025-05-14T15:56:03.579633Z",
     "shell.execute_reply.started": "2025-05-14T15:56:01.032738Z"
    },
    "trusted": true
   },
   "outputs": [
    {
     "name": "stdout",
     "output_type": "stream",
     "text": [
      "\n",
      "Evaluating XGBRegressor...\n",
      "XGBRegressor - MAE: 2.06, R2: 0.9808\n",
      "\n",
      "Evaluating LGBMRegressor...\n",
      "[LightGBM] [Info] Auto-choosing row-wise multi-threading, the overhead of testing was 0.001349 seconds.\n",
      "You can set `force_row_wise=true` to remove the overhead.\n",
      "And if memory is not enough, you can set `force_col_wise=true`.\n",
      "[LightGBM] [Info] Total Bins 3234\n",
      "[LightGBM] [Info] Number of data points in the train set: 800, number of used features: 103\n",
      "[LightGBM] [Info] Start training from score 84.325000\n",
      "[LightGBM] [Warning] No further splits with positive gain, best gain: -inf\n",
      "[LightGBM] [Warning] No further splits with positive gain, best gain: -inf\n",
      "[LightGBM] [Warning] No further splits with positive gain, best gain: -inf\n",
      "[LightGBM] [Warning] No further splits with positive gain, best gain: -inf\n",
      "[LightGBM] [Warning] No further splits with positive gain, best gain: -inf\n",
      "[LightGBM] [Warning] No further splits with positive gain, best gain: -inf\n",
      "[LightGBM] [Warning] No further splits with positive gain, best gain: -inf\n",
      "[LightGBM] [Warning] No further splits with positive gain, best gain: -inf\n",
      "[LightGBM] [Warning] No further splits with positive gain, best gain: -inf\n",
      "[LightGBM] [Warning] No further splits with positive gain, best gain: -inf\n",
      "[LightGBM] [Warning] No further splits with positive gain, best gain: -inf\n",
      "[LightGBM] [Warning] No further splits with positive gain, best gain: -inf\n",
      "[LightGBM] [Warning] No further splits with positive gain, best gain: -inf\n",
      "[LightGBM] [Warning] No further splits with positive gain, best gain: -inf\n",
      "[LightGBM] [Warning] No further splits with positive gain, best gain: -inf\n",
      "[LightGBM] [Warning] No further splits with positive gain, best gain: -inf\n",
      "LGBMRegressor - MAE: 1.72, R2: 0.9886\n",
      "\n",
      "Evaluating RandomForestRegressor...\n"
     ]
    },
    {
     "name": "stderr",
     "output_type": "stream",
     "text": [
      "c:\\Users\\ASUS\\Downloads\\MBKM DataIns\\RAG CV\\.venv\\lib\\site-packages\\sklearn\\utils\\validation.py:2739: UserWarning: X does not have valid feature names, but LGBMRegressor was fitted with feature names\n",
      "  warnings.warn(\n"
     ]
    },
    {
     "name": "stdout",
     "output_type": "stream",
     "text": [
      "RandomForestRegressor - MAE: 2.34, R2: 0.9754\n",
      "\n",
      "Model Comparison:\n",
      "                    name       mae        r2\n",
      "0           XGBRegressor  2.058678  0.980776\n",
      "1          LGBMRegressor  1.721427  0.988564\n",
      "2  RandomForestRegressor  2.337500  0.975403\n",
      "\n",
      "Best model: LGBMRegressor\n"
     ]
    }
   ],
   "source": [
    "# Evaluation function\n",
    "def evaluate_model(model, X_train, X_test, y_train, y_test):\n",
    "    pipeline = Pipeline(steps=[\n",
    "        ('preprocessor', preprocessor),\n",
    "        ('model', model)\n",
    "    ])\n",
    "    \n",
    "    pipeline.fit(X_train, y_train)\n",
    "    y_pred = pipeline.predict(X_test)\n",
    "    \n",
    "    mae = mean_absolute_error(y_test, y_pred)\n",
    "    mse = mean_squared_error(y_test, y_pred)\n",
    "    rmse = np.sqrt(mse)\n",
    "    r2 = r2_score(y_test, y_pred)\n",
    "    \n",
    "    return {\n",
    "        'model': type(model).__name__,\n",
    "        'mae': mae,\n",
    "        'mse': mse,\n",
    "        'rmse': rmse,\n",
    "        'r2': r2,\n",
    "        'pipeline': pipeline\n",
    "    }\n",
    "\n",
    "# Evaluate all models\n",
    "results = []\n",
    "for name, model in model_dict.items():\n",
    "    print(f\"\\nEvaluating {name}...\")\n",
    "    result = evaluate_model(model, X_train, X_test, y_train, y_test)\n",
    "    result['name'] = name  # simpan nama friendly-nya\n",
    "    result['model_obj'] = model  # simpan object model-nya\n",
    "    results.append(result)\n",
    "    print(f\"{name} - MAE: {result['mae']:.2f}, R2: {result['r2']:.4f}\")\n",
    "\n",
    "\n",
    "# Display results\n",
    "results_df = pd.DataFrame(results)\n",
    "print(\"\\nModel Comparison:\")\n",
    "print(results_df[['name', 'mae', 'r2']])\n",
    "\n",
    "# Ambil best model\n",
    "best_result = results_df.loc[results_df['r2'].idxmax()]\n",
    "best_model_name = best_result['name']\n",
    "best_model_obj = best_result['model_obj']\n",
    "print(f\"\\nBest model: {best_model_name}\")"
   ]
  },
  {
   "cell_type": "code",
   "execution_count": 16,
   "metadata": {
    "execution": {
     "iopub.execute_input": "2025-05-14T16:05:17.657106Z",
     "iopub.status.busy": "2025-05-14T16:05:17.656503Z"
    },
    "scrolled": true,
    "trusted": true
   },
   "outputs": [
    {
     "name": "stdout",
     "output_type": "stream",
     "text": [
      "\n",
      "Best model: LGBMRegressor\n",
      "\n",
      "Performing hyperparameter tuning...\n",
      "Fitting 5 folds for each of 162 candidates, totalling 810 fits\n",
      "[LightGBM] [Warning] feature_fraction is set=1.0, colsample_bytree=1.0 will be ignored. Current value: feature_fraction=1.0\n",
      "[LightGBM] [Warning] feature_fraction is set=1.0, colsample_bytree=1.0 will be ignored. Current value: feature_fraction=1.0\n",
      "[LightGBM] [Info] Auto-choosing col-wise multi-threading, the overhead of testing was 0.002759 seconds.\n",
      "You can set `force_col_wise=true` to remove the overhead.\n",
      "[LightGBM] [Info] Total Bins 3234\n",
      "[LightGBM] [Info] Number of data points in the train set: 800, number of used features: 103\n",
      "[LightGBM] [Info] Start training from score 84.325000\n",
      "[LightGBM] [Warning] No further splits with positive gain, best gain: -inf\n",
      "[LightGBM] [Warning] No further splits with positive gain, best gain: -inf\n",
      "[LightGBM] [Warning] No further splits with positive gain, best gain: -inf\n",
      "[LightGBM] [Warning] No further splits with positive gain, best gain: -inf\n",
      "[LightGBM] [Warning] No further splits with positive gain, best gain: -inf\n",
      "[LightGBM] [Warning] No further splits with positive gain, best gain: -inf\n",
      "[LightGBM] [Warning] No further splits with positive gain, best gain: -inf\n",
      "[LightGBM] [Warning] No further splits with positive gain, best gain: -inf\n",
      "[LightGBM] [Warning] No further splits with positive gain, best gain: -inf\n",
      "[LightGBM] [Warning] No further splits with positive gain, best gain: -inf\n",
      "[LightGBM] [Warning] No further splits with positive gain, best gain: -inf\n",
      "[LightGBM] [Warning] No further splits with positive gain, best gain: -inf\n",
      "[LightGBM] [Warning] No further splits with positive gain, best gain: -inf\n",
      "[LightGBM] [Warning] No further splits with positive gain, best gain: -inf\n",
      "[LightGBM] [Warning] No further splits with positive gain, best gain: -inf\n",
      "[LightGBM] [Warning] No further splits with positive gain, best gain: -inf\n",
      "[LightGBM] [Warning] No further splits with positive gain, best gain: -inf\n",
      "[LightGBM] [Warning] No further splits with positive gain, best gain: -inf\n",
      "[LightGBM] [Warning] No further splits with positive gain, best gain: -inf\n",
      "[LightGBM] [Warning] No further splits with positive gain, best gain: -inf\n",
      "[LightGBM] [Warning] No further splits with positive gain, best gain: -inf\n",
      "[LightGBM] [Warning] No further splits with positive gain, best gain: -inf\n",
      "[LightGBM] [Warning] No further splits with positive gain, best gain: -inf\n",
      "[LightGBM] [Warning] No further splits with positive gain, best gain: -inf\n",
      "[LightGBM] [Warning] No further splits with positive gain, best gain: -inf\n",
      "[LightGBM] [Warning] No further splits with positive gain, best gain: -inf\n",
      "[LightGBM] [Warning] No further splits with positive gain, best gain: -inf\n",
      "[LightGBM] [Warning] No further splits with positive gain, best gain: -inf\n",
      "[LightGBM] [Warning] No further splits with positive gain, best gain: -inf\n",
      "[LightGBM] [Warning] No further splits with positive gain, best gain: -inf\n",
      "[LightGBM] [Warning] No further splits with positive gain, best gain: -inf\n",
      "[LightGBM] [Warning] No further splits with positive gain, best gain: -inf\n",
      "[LightGBM] [Warning] No further splits with positive gain, best gain: -inf\n",
      "[LightGBM] [Warning] No further splits with positive gain, best gain: -inf\n",
      "[LightGBM] [Warning] No further splits with positive gain, best gain: -inf\n",
      "[LightGBM] [Warning] No further splits with positive gain, best gain: -inf\n",
      "[LightGBM] [Warning] No further splits with positive gain, best gain: -inf\n",
      "[LightGBM] [Warning] No further splits with positive gain, best gain: -inf\n",
      "[LightGBM] [Warning] No further splits with positive gain, best gain: -inf\n",
      "[LightGBM] [Warning] No further splits with positive gain, best gain: -inf\n",
      "[LightGBM] [Warning] No further splits with positive gain, best gain: -inf\n",
      "[LightGBM] [Warning] No further splits with positive gain, best gain: -inf\n",
      "[LightGBM] [Warning] No further splits with positive gain, best gain: -inf\n",
      "\n",
      "Best parameters found:\n",
      "{'model__feature_fraction': 1.0, 'model__learning_rate': 0.1, 'model__max_depth': -1, 'model__n_estimators': 300, 'model__num_leaves': 31}\n"
     ]
    }
   ],
   "source": [
    "# Hyperparameter tuning for best model\n",
    "best_model_name = results_df.loc[results_df['r2'].idxmax(), 'model']\n",
    "print(f\"\\nBest model: {best_model_name}\")\n",
    "\n",
    "# Definisikan parameter grid yang lebih lengkap\n",
    "if best_model_name == 'XGBRegressor':\n",
    "    param_grid = {\n",
    "        'model__n_estimators': [100, 200, 300],\n",
    "        'model__learning_rate': [0.01, 0.05, 0.1],\n",
    "        'model__max_depth': [3, 5, 7],\n",
    "        'model__subsample': [0.8, 1.0],\n",
    "        'model__colsample_bytree': [0.8, 1.0]\n",
    "    }\n",
    "elif best_model_name == 'LGBMRegressor':\n",
    "    param_grid = {\n",
    "        'model__n_estimators': [100, 200, 300],\n",
    "        'model__learning_rate': [0.01, 0.05, 0.1],\n",
    "        'model__num_leaves': [31, 63, 127],\n",
    "        'model__max_depth': [-1, 5, 10],\n",
    "        'model__feature_fraction': [0.8, 1.0]\n",
    "    }\n",
    "else:  # RandomForest or similar tree-based models\n",
    "    param_grid = {\n",
    "        'model__n_estimators': [100, 200, 300],\n",
    "        'model__max_depth': [None, 5, 10],\n",
    "        'model__min_samples_split': [2, 5, 10],\n",
    "        'model__min_samples_leaf': [1, 2, 4],\n",
    "        'model__bootstrap': [True, False]\n",
    "    }\n",
    "\n",
    "# Ambil instance model yang sesuai dari pipeline sebelumnya\n",
    "best_model_obj = model_dict[best_model_name]\n",
    "\n",
    "# Buat ulang pipeline dengan model terbaik\n",
    "tuning_pipeline = Pipeline(steps=[\n",
    "    ('preprocessor', preprocessor),\n",
    "    ('model', best_model_obj)\n",
    "])\n",
    "\n",
    "# Lakukan GridSearchCV\n",
    "grid_search = GridSearchCV(\n",
    "    tuning_pipeline,\n",
    "    param_grid,\n",
    "    cv=5,\n",
    "    scoring='neg_mean_absolute_error',\n",
    "    n_jobs=-1,\n",
    "    verbose=1\n",
    ")\n",
    "\n",
    "print(\"\\nPerforming hyperparameter tuning...\")\n",
    "grid_search.fit(X_train, y_train)\n",
    "\n",
    "# Tampilkan hasil tuning terbaik\n",
    "print(\"\\nBest parameters found:\")\n",
    "print(grid_search.best_params_)\n"
   ]
  },
  {
   "cell_type": "code",
   "execution_count": 17,
   "metadata": {
    "execution": {
     "iopub.execute_input": "2025-05-14T16:13:51.121136Z",
     "iopub.status.busy": "2025-05-14T16:13:51.120852Z",
     "iopub.status.idle": "2025-05-14T16:13:51.148170Z",
     "shell.execute_reply": "2025-05-14T16:13:51.147254Z",
     "shell.execute_reply.started": "2025-05-14T16:13:51.121116Z"
    },
    "trusted": true
   },
   "outputs": [
    {
     "name": "stdout",
     "output_type": "stream",
     "text": [
      "[LightGBM] [Warning] feature_fraction is set=1.0, colsample_bytree=1.0 will be ignored. Current value: feature_fraction=1.0\n",
      "\n",
      "Tuned Model Performance:\n",
      "MAE: 1.69\n",
      "R2: 0.9891\n"
     ]
    },
    {
     "name": "stderr",
     "output_type": "stream",
     "text": [
      "c:\\Users\\ASUS\\Downloads\\MBKM DataIns\\RAG CV\\.venv\\lib\\site-packages\\sklearn\\utils\\validation.py:2739: UserWarning: X does not have valid feature names, but LGBMRegressor was fitted with feature names\n",
      "  warnings.warn(\n"
     ]
    }
   ],
   "source": [
    "# Evaluate tuned model\n",
    "best_model = grid_search.best_estimator_\n",
    "y_pred = best_model.predict(X_test)\n",
    "\n",
    "print(\"\\nTuned Model Performance:\")\n",
    "print(f\"MAE: {mean_absolute_error(y_test, y_pred):.2f}\")\n",
    "print(f\"R2: {r2_score(y_test, y_pred):.4f}\")"
   ]
  },
  {
   "cell_type": "code",
   "execution_count": 18,
   "metadata": {
    "execution": {
     "iopub.execute_input": "2025-05-14T16:13:44.974687Z",
     "iopub.status.busy": "2025-05-14T16:13:44.973924Z",
     "iopub.status.idle": "2025-05-14T16:13:45.388160Z",
     "shell.execute_reply": "2025-05-14T16:13:45.387322Z",
     "shell.execute_reply.started": "2025-05-14T16:13:44.974657Z"
    },
    "scrolled": true,
    "trusted": true
   },
   "outputs": [
    {
     "data": {
      "image/png": "[encoded data removed]",
      "text/plain": [
       "<Figure size 1200x800 with 1 Axes>"
      ]
     },
     "metadata": {},
     "output_type": "display_data"
    }
   ],
   "source": [
    "# Plot feature importance for tree-based models\n",
    "if hasattr(best_model.named_steps['model'], 'feature_importances_'):\n",
    "    numeric_features = numerical_features\n",
    "    cat_features = best_model.named_steps['preprocessor']\\\n",
    "        .named_transformers_['cat']\\\n",
    "        .named_steps['onehot']\\\n",
    "        .get_feature_names_out(categorical_features)\n",
    "    text_features = best_model.named_steps['preprocessor']\\\n",
    "        .named_transformers_['text']\\\n",
    "        .named_steps['tfidf']\\\n",
    "        .get_feature_names_out()\n",
    "    \n",
    "    all_features = np.concatenate([numeric_features, cat_features, text_features])\n",
    "    \n",
    "    importances = best_model.named_steps['model'].feature_importances_\n",
    "    \n",
    "    importance_df = pd.DataFrame({\n",
    "        'Feature': all_features,\n",
    "        'Importance': importances\n",
    "    }).sort_values('Importance', ascending=False).head(20)\n",
    "    \n",
    "    plt.figure(figsize=(12, 8))\n",
    "    sns.barplot(x='Importance', y='Feature', data=importance_df)\n",
    "    plt.title('Top 20 Feature Importances')\n",
    "    plt.show()"
   ]
  },
  {
   "cell_type": "markdown",
   "metadata": {},
   "source": [
    "# Save Model"
   ]
  },
  {
   "cell_type": "code",
   "execution_count": 19,
   "metadata": {
    "execution": {
     "iopub.execute_input": "2025-05-14T16:14:10.757307Z",
     "iopub.status.busy": "2025-05-14T16:14:10.756987Z",
     "iopub.status.idle": "2025-05-14T16:14:11.155582Z",
     "shell.execute_reply": "2025-05-14T16:14:11.154624Z",
     "shell.execute_reply.started": "2025-05-14T16:14:10.757247Z"
    },
    "scrolled": true,
    "trusted": true
   },
   "outputs": [
    {
     "name": "stderr",
     "output_type": "stream",
     "text": [
      "c:\\Users\\ASUS\\Downloads\\MBKM DataIns\\RAG CV\\.venv\\lib\\site-packages\\sklearn\\utils\\validation.py:2739: UserWarning: X does not have valid feature names, but LGBMRegressor was fitted with feature names\n",
      "  warnings.warn(\n"
     ]
    },
    {
     "name": "stdout",
     "output_type": "stream",
     "text": [
      "[LightGBM] [Warning] feature_fraction is set=1.0, colsample_bytree=1.0 will be ignored. Current value: feature_fraction=1.0\n",
      "\n",
      "Contoh 15 Prediksi vs Aktual:\n",
      "    Index   Predicted  Actual\n",
      "0     521   99.633978     100\n",
      "1     737  100.697510     100\n",
      "2     740  100.556709     100\n",
      "3     660  100.743444     100\n",
      "4     411   51.494510      50\n",
      "5     678   99.941285     100\n",
      "6     626   45.186247      45\n",
      "7     513   45.115619      50\n",
      "8     859  101.265788     100\n",
      "9     136   87.532557      80\n",
      "10    811   42.599245      45\n",
      "11     76   25.592572      20\n",
      "12    636   99.942419     100\n",
      "13    973   86.133774      90\n",
      "14    938   60.381575      60\n"
     ]
    },
    {
     "data": {
      "image/png": "[encoded data removed]",
      "text/plain": [
       "<Figure size 1200x600 with 1 Axes>"
      ]
     },
     "metadata": {},
     "output_type": "display_data"
    }
   ],
   "source": [
    "# Save the best model\n",
    "joblib.dump(best_model, './best_resume_scorer.pkl')\n",
    "\n",
    "# Example prediction\n",
    "# Ambil 15 contoh dari X_test\n",
    "sample_resumes = X_test.iloc[:15]\n",
    "predictions = best_model.predict(sample_resumes)\n",
    "actuals = y_test.iloc[:15].values\n",
    "\n",
    "# Buat DataFrame untuk perbandingan\n",
    "comparison_df = pd.DataFrame({\n",
    "    'Index': sample_resumes.index,\n",
    "    'Predicted': predictions,\n",
    "    'Actual': actuals\n",
    "})\n",
    "\n",
    "# Tampilkan hasil prediksi vs aktual\n",
    "print(\"\\nContoh 15 Prediksi vs Aktual:\")\n",
    "print(comparison_df)\n",
    "\n",
    "# Visualisasi bar plot\n",
    "plt.figure(figsize=(12, 6))\n",
    "bar_width = 0.35\n",
    "indices = np.arange(len(comparison_df))\n",
    "\n",
    "plt.bar(indices, comparison_df['Actual'], bar_width, label='Actual', color='skyblue')\n",
    "plt.bar(indices + bar_width, comparison_df['Predicted'], bar_width, label='Predicted', color='salmon')\n",
    "\n",
    "plt.xlabel('Sample Index')\n",
    "plt.ylabel('Target Value')\n",
    "plt.title('Comparison of Actual vs Predicted (15 Samples)')\n",
    "plt.xticks(indices + bar_width / 2, comparison_df['Index'], rotation=45)\n",
    "plt.legend()\n",
    "plt.tight_layout()\n",
    "plt.show()"
   ]
  }
 ],
 "metadata": {
  "kaggle": {
   "accelerator": "nvidiaTeslaT4",
   "dataSources": [
    {
     "datasetId": 6382487,
     "sourceId": 10310349,
     "sourceType": "datasetVersion"
    },
    {
     "datasetId": 7417864,
     "sourceId": 11810764,
     "sourceType": "datasetVersion"
    }
   ],
   "dockerImageVersionId": 31041,
   "isGpuEnabled": true,
   "isInternetEnabled": true,
   "language": "python",
   "sourceType": "notebook"
  },
  "kernelspec": {
   "display_name": ".venv",
   "language": "python",
   "name": "python3"
  },
  "language_info": {
   "codemirror_mode": {
    "name": "ipython",
    "version": 3
   },
   "file_extension": ".py",
   "mimetype": "text/x-python",
   "name": "python",
   "nbconvert_exporter": "python",
   "pygments_lexer": "ipython3",
   "version": "3.10.11"
  }
 },
 "nbformat": 4,
 "nbformat_minor": 4
}
