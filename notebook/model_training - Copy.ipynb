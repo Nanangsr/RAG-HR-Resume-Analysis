{
 "cells": [
  {
   "cell_type": "markdown",
   "id": "e581e7a5",
   "metadata": {},
   "source": [
    "# Resume Scoring Model Development Notebook (Updated for New Dataset)\n",
    "\n",
    "**Dataset Structure:**\n",
    "- Resume_ID: Unique ID\n",
    "- Name: Candidate name\n",
    "- Skills: Skills list\n",
    "- Experience (Years): Years of experience\n",
    "- Education: Education level\n",
    "- Certifications: Certifications (some missing)\n",
    "- Job Role: Target job role\n",
    "- Recruiter Decision: Hiring decision\n",
    "- Salary Expectation ($): Expected salary\n",
    "- Projects Count: Number of projects\n",
    "- AI Score (0-100): Target variable"
   ]
  },
  {
   "cell_type": "code",
   "execution_count": 1,
   "id": "61e4308e",
   "metadata": {},
   "outputs": [
    {
     "name": "stderr",
     "output_type": "stream",
     "text": [
      "c:\\Users\\ASUS\\Downloads\\MBKM DataIns\\RAG CV\\.venv\\lib\\site-packages\\tqdm\\auto.py:21: TqdmWarning: IProgress not found. Please update jupyter and ipywidgets. See https://ipywidgets.readthedocs.io/en/stable/user_install.html\n",
      "  from .autonotebook import tqdm as notebook_tqdm\n"
     ]
    }
   ],
   "source": [
    "# Import libraries\n",
    "import pandas as pd\n",
    "import numpy as np\n",
    "import matplotlib.pyplot as plt\n",
    "import seaborn as sns\n",
    "from tqdm import tqdm\n",
    "import re\n",
    "import nltk\n",
    "from nltk.corpus import stopwords\n",
    "from nltk.stem import WordNetLemmatizer\n",
    "from sklearn.model_selection import train_test_split\n",
    "from sklearn.preprocessing import StandardScaler\n",
    "from transformers import AutoTokenizer, AutoModel\n",
    "import torch\n",
    "import torch.nn as nn\n",
    "from torch.utils.data import Dataset, DataLoader\n",
    "import joblib"
   ]
  },
  {
   "cell_type": "code",
   "execution_count": 2,
   "id": "40942b0e",
   "metadata": {},
   "outputs": [],
   "source": [
    "# Load dataset\n",
    "df = pd.read_csv('C:/Users/ASUS/Downloads/MBKM DataIns/RAG CV/models/AI_Resume_Screening.csv')"
   ]
  },
  {
   "cell_type": "markdown",
   "id": "fe6a4a37",
   "metadata": {},
   "source": [
    "# EDA"
   ]
  },
  {
   "cell_type": "code",
   "execution_count": 3,
   "id": "2f4d3240",
   "metadata": {},
   "outputs": [
    {
     "name": "stderr",
     "output_type": "stream",
     "text": [
      "[nltk_data] Downloading package stopwords to\n",
      "[nltk_data]     C:\\Users\\ASUS\\AppData\\Roaming\\nltk_data...\n",
      "[nltk_data]   Package stopwords is already up-to-date!\n",
      "[nltk_data] Downloading package wordnet to\n",
      "[nltk_data]     C:\\Users\\ASUS\\AppData\\Roaming\\nltk_data...\n",
      "[nltk_data]   Package wordnet is already up-to-date!\n"
     ]
    },
    {
     "data": {
      "text/plain": [
       "True"
      ]
     },
     "execution_count": 3,
     "metadata": {},
     "output_type": "execute_result"
    }
   ],
   "source": [
    "# Initialize NLTK\n",
    "nltk.download('stopwords')\n",
    "nltk.download('wordnet')"
   ]
  },
  {
   "cell_type": "code",
   "execution_count": 4,
   "id": "97b521c1",
   "metadata": {},
   "outputs": [],
   "source": [
    "# Set style visualisasi\n",
    "sns.set(style=\"whitegrid\")\n",
    "plt.rcParams[\"figure.figsize\"] = (12, 6)"
   ]
  },
  {
   "cell_type": "code",
   "execution_count": 5,
   "id": "dd796ff3",
   "metadata": {},
   "outputs": [
    {
     "name": "stdout",
     "output_type": "stream",
     "text": [
      "Dataset Info:\n",
      "Shape: (1000, 11)\n",
      "\n",
      "Columns and Non-Null Counts:\n",
      "<class 'pandas.core.frame.DataFrame'>\n",
      "RangeIndex: 1000 entries, 0 to 999\n",
      "Data columns (total 11 columns):\n",
      " #   Column                  Non-Null Count  Dtype \n",
      "---  ------                  --------------  ----- \n",
      " 0   Resume_ID               1000 non-null   int64 \n",
      " 1   Name                    1000 non-null   object\n",
      " 2   Skills                  1000 non-null   object\n",
      " 3   Experience (Years)      1000 non-null   int64 \n",
      " 4   Education               1000 non-null   object\n",
      " 5   Certifications          726 non-null    object\n",
      " 6   Job Role                1000 non-null   object\n",
      " 7   Recruiter Decision      1000 non-null   object\n",
      " 8   Salary Expectation ($)  1000 non-null   int64 \n",
      " 9   Projects Count          1000 non-null   int64 \n",
      " 10  AI Score (0-100)        1000 non-null   int64 \n",
      "dtypes: int64(5), object(6)\n",
      "memory usage: 86.1+ KB\n",
      "None\n",
      "\n",
      "Sample Data:\n"
     ]
    },
    {
     "data": {
      "text/html": [
       "<div>\n",
       "<style scoped>\n",
       "    .dataframe tbody tr th:only-of-type {\n",
       "        vertical-align: middle;\n",
       "    }\n",
       "\n",
       "    .dataframe tbody tr th {\n",
       "        vertical-align: top;\n",
       "    }\n",
       "\n",
       "    .dataframe thead th {\n",
       "        text-align: right;\n",
       "    }\n",
       "</style>\n",
       "<table border=\"1\" class=\"dataframe\">\n",
       "  <thead>\n",
       "    <tr style=\"text-align: right;\">\n",
       "      <th></th>\n",
       "      <th>Resume_ID</th>\n",
       "      <th>Name</th>\n",
       "      <th>Skills</th>\n",
       "      <th>Experience (Years)</th>\n",
       "      <th>Education</th>\n",
       "      <th>Certifications</th>\n",
       "      <th>Job Role</th>\n",
       "      <th>Recruiter Decision</th>\n",
       "      <th>Salary Expectation ($)</th>\n",
       "      <th>Projects Count</th>\n",
       "      <th>AI Score (0-100)</th>\n",
       "    </tr>\n",
       "  </thead>\n",
       "  <tbody>\n",
       "    <tr>\n",
       "      <th>0</th>\n",
       "      <td>1</td>\n",
       "      <td>Ashley Ali</td>\n",
       "      <td>TensorFlow, NLP, Pytorch</td>\n",
       "      <td>10</td>\n",
       "      <td>B.Sc</td>\n",
       "      <td>NaN</td>\n",
       "      <td>AI Researcher</td>\n",
       "      <td>Hire</td>\n",
       "      <td>104895</td>\n",
       "      <td>8</td>\n",
       "      <td>100</td>\n",
       "    </tr>\n",
       "    <tr>\n",
       "      <th>1</th>\n",
       "      <td>2</td>\n",
       "      <td>Wesley Roman</td>\n",
       "      <td>Deep Learning, Machine Learning, Python, SQL</td>\n",
       "      <td>10</td>\n",
       "      <td>MBA</td>\n",
       "      <td>Google ML</td>\n",
       "      <td>Data Scientist</td>\n",
       "      <td>Hire</td>\n",
       "      <td>113002</td>\n",
       "      <td>1</td>\n",
       "      <td>100</td>\n",
       "    </tr>\n",
       "    <tr>\n",
       "      <th>2</th>\n",
       "      <td>3</td>\n",
       "      <td>Corey Sanchez</td>\n",
       "      <td>Ethical Hacking, Cybersecurity, Linux</td>\n",
       "      <td>1</td>\n",
       "      <td>MBA</td>\n",
       "      <td>Deep Learning Specialization</td>\n",
       "      <td>Cybersecurity Analyst</td>\n",
       "      <td>Hire</td>\n",
       "      <td>71766</td>\n",
       "      <td>7</td>\n",
       "      <td>70</td>\n",
       "    </tr>\n",
       "  </tbody>\n",
       "</table>\n",
       "</div>"
      ],
      "text/plain": [
       "   Resume_ID           Name                                        Skills  \\\n",
       "0          1     Ashley Ali                      TensorFlow, NLP, Pytorch   \n",
       "1          2   Wesley Roman  Deep Learning, Machine Learning, Python, SQL   \n",
       "2          3  Corey Sanchez         Ethical Hacking, Cybersecurity, Linux   \n",
       "\n",
       "   Experience (Years) Education                Certifications  \\\n",
       "0                  10      B.Sc                           NaN   \n",
       "1                  10       MBA                     Google ML   \n",
       "2                   1       MBA  Deep Learning Specialization   \n",
       "\n",
       "                Job Role Recruiter Decision  Salary Expectation ($)  \\\n",
       "0          AI Researcher               Hire                  104895   \n",
       "1         Data Scientist               Hire                  113002   \n",
       "2  Cybersecurity Analyst               Hire                   71766   \n",
       "\n",
       "   Projects Count  AI Score (0-100)  \n",
       "0               8               100  \n",
       "1               1               100  \n",
       "2               7                70  "
      ]
     },
     "execution_count": 5,
     "metadata": {},
     "output_type": "execute_result"
    }
   ],
   "source": [
    "# Basic info\n",
    "print(\"Dataset Info:\")\n",
    "print(f\"Shape: {df.shape}\")\n",
    "print(\"\\nColumns and Non-Null Counts:\")\n",
    "print(df.info())\n",
    "print(\"\\nSample Data:\")\n",
    "df.head(3)"
   ]
  },
  {
   "cell_type": "code",
   "execution_count": 6,
   "id": "e92d6f38",
   "metadata": {},
   "outputs": [
    {
     "name": "stdout",
     "output_type": "stream",
     "text": [
      "\n",
      "Missing Values Analysis:\n",
      "Certifications    274\n",
      "dtype: int64\n"
     ]
    }
   ],
   "source": [
    "# Missing values analysis\n",
    "print(\"\\nMissing Values Analysis:\")\n",
    "print(df.isnull().sum()[df.isnull().sum() > 0])"
   ]
  },
  {
   "cell_type": "code",
   "execution_count": 7,
   "id": "177c015e",
   "metadata": {},
   "outputs": [
    {
     "data": {
      "image/png": "[encoded data removed]",
      "text/plain": [
       "<Figure size 1000x600 with 1 Axes>"
      ]
     },
     "metadata": {},
     "output_type": "display_data"
    }
   ],
   "source": [
    "# Target distribution\n",
    "plt.figure(figsize=(10, 6))\n",
    "sns.histplot(df['AI Score (0-100)'], bins=30, kde=True)\n",
    "plt.title('Distribution of AI Scores')\n",
    "plt.xlabel('Score (0-100)')\n",
    "plt.ylabel('Count')\n",
    "plt.show()"
   ]
  },
  {
   "cell_type": "code",
   "execution_count": 8,
   "id": "a3301c09",
   "metadata": {},
   "outputs": [
    {
     "data": {
      "text/html": [
       "<div>\n",
       "<style scoped>\n",
       "    .dataframe tbody tr th:only-of-type {\n",
       "        vertical-align: middle;\n",
       "    }\n",
       "\n",
       "    .dataframe tbody tr th {\n",
       "        vertical-align: top;\n",
       "    }\n",
       "\n",
       "    .dataframe thead th {\n",
       "        text-align: right;\n",
       "    }\n",
       "</style>\n",
       "<table border=\"1\" class=\"dataframe\">\n",
       "  <thead>\n",
       "    <tr style=\"text-align: right;\">\n",
       "      <th></th>\n",
       "      <th>Experience (Years)</th>\n",
       "      <th>Salary Expectation ($)</th>\n",
       "      <th>Projects Count</th>\n",
       "    </tr>\n",
       "  </thead>\n",
       "  <tbody>\n",
       "    <tr>\n",
       "      <th>count</th>\n",
       "      <td>1000.000000</td>\n",
       "      <td>1000.000000</td>\n",
       "      <td>1000.00000</td>\n",
       "    </tr>\n",
       "    <tr>\n",
       "      <th>mean</th>\n",
       "      <td>4.896000</td>\n",
       "      <td>79994.486000</td>\n",
       "      <td>5.13300</td>\n",
       "    </tr>\n",
       "    <tr>\n",
       "      <th>std</th>\n",
       "      <td>3.112695</td>\n",
       "      <td>23048.472549</td>\n",
       "      <td>3.23137</td>\n",
       "    </tr>\n",
       "    <tr>\n",
       "      <th>min</th>\n",
       "      <td>0.000000</td>\n",
       "      <td>40085.000000</td>\n",
       "      <td>0.00000</td>\n",
       "    </tr>\n",
       "    <tr>\n",
       "      <th>25%</th>\n",
       "      <td>2.000000</td>\n",
       "      <td>60415.750000</td>\n",
       "      <td>2.00000</td>\n",
       "    </tr>\n",
       "    <tr>\n",
       "      <th>50%</th>\n",
       "      <td>5.000000</td>\n",
       "      <td>79834.500000</td>\n",
       "      <td>5.00000</td>\n",
       "    </tr>\n",
       "    <tr>\n",
       "      <th>75%</th>\n",
       "      <td>8.000000</td>\n",
       "      <td>99583.250000</td>\n",
       "      <td>8.00000</td>\n",
       "    </tr>\n",
       "    <tr>\n",
       "      <th>max</th>\n",
       "      <td>10.000000</td>\n",
       "      <td>119901.000000</td>\n",
       "      <td>10.00000</td>\n",
       "    </tr>\n",
       "  </tbody>\n",
       "</table>\n",
       "</div>"
      ],
      "text/plain": [
       "       Experience (Years)  Salary Expectation ($)  Projects Count\n",
       "count         1000.000000             1000.000000      1000.00000\n",
       "mean             4.896000            79994.486000         5.13300\n",
       "std              3.112695            23048.472549         3.23137\n",
       "min              0.000000            40085.000000         0.00000\n",
       "25%              2.000000            60415.750000         2.00000\n",
       "50%              5.000000            79834.500000         5.00000\n",
       "75%              8.000000            99583.250000         8.00000\n",
       "max             10.000000           119901.000000        10.00000"
      ]
     },
     "execution_count": 8,
     "metadata": {},
     "output_type": "execute_result"
    }
   ],
   "source": [
    "# Numerical features analysis\n",
    "num_cols = ['Experience (Years)', 'Salary Expectation ($)', 'Projects Count']\n",
    "df[num_cols].describe()"
   ]
  },
  {
   "cell_type": "code",
   "execution_count": 9,
   "id": "269be1e4",
   "metadata": {},
   "outputs": [
    {
     "name": "stdout",
     "output_type": "stream",
     "text": [
      "\n",
      "Education Value Counts:\n",
      "Education\n",
      "B.Sc      205\n",
      "MBA       202\n",
      "B.Tech    200\n",
      "M.Tech    198\n",
      "PhD       195\n",
      "Name: count, dtype: int64\n"
     ]
    },
    {
     "data": {
      "image/png": "[encoded data removed]",
      "text/plain": [
       "<Figure size 1000x500 with 1 Axes>"
      ]
     },
     "metadata": {},
     "output_type": "display_data"
    },
    {
     "name": "stdout",
     "output_type": "stream",
     "text": [
      "\n",
      "Job Role Value Counts:\n",
      "Job Role\n",
      "AI Researcher            257\n",
      "Data Scientist           255\n",
      "Cybersecurity Analyst    255\n",
      "Software Engineer        233\n",
      "Name: count, dtype: int64\n"
     ]
    },
    {
     "data": {
      "image/png": "[encoded data removed]",
      "text/plain": [
       "<Figure size 1000x500 with 1 Axes>"
      ]
     },
     "metadata": {},
     "output_type": "display_data"
    },
    {
     "name": "stdout",
     "output_type": "stream",
     "text": [
      "\n",
      "Recruiter Decision Value Counts:\n",
      "Recruiter Decision\n",
      "Hire      812\n",
      "Reject    188\n",
      "Name: count, dtype: int64\n"
     ]
    },
    {
     "data": {
      "image/png": "[encoded data removed]",
      "text/plain": [
       "<Figure size 1000x500 with 1 Axes>"
      ]
     },
     "metadata": {},
     "output_type": "display_data"
    }
   ],
   "source": [
    "# Categorical features analysis\n",
    "cat_cols = ['Education', 'Job Role', 'Recruiter Decision']\n",
    "\n",
    "for col in cat_cols:\n",
    "    print(f\"\\n{col} Value Counts:\")\n",
    "    print(df[col].value_counts())\n",
    "    \n",
    "    plt.figure(figsize=(10, 5))\n",
    "    sns.countplot(y=col, data=df, order=df[col].value_counts().index)\n",
    "    plt.title(f'Distribution of {col}')\n",
    "    plt.show()"
   ]
  },
  {
   "cell_type": "code",
   "execution_count": 10,
   "id": "707313b6",
   "metadata": {},
   "outputs": [
    {
     "name": "stdout",
     "output_type": "stream",
     "text": [
      "\n",
      "Skills Count Statistics:\n",
      "count    1000.000000\n",
      "mean        3.017000\n",
      "std         0.805829\n",
      "min         2.000000\n",
      "25%         2.000000\n",
      "50%         3.000000\n",
      "75%         4.000000\n",
      "max         4.000000\n",
      "Name: Skills_Count, dtype: float64\n"
     ]
    }
   ],
   "source": [
    "# Skills analysis (example of processing list-like data)\n",
    "df['Skills_Count'] = df['Skills'].apply(lambda x: len(x.split(',')))\n",
    "print(\"\\nSkills Count Statistics:\")\n",
    "print(df['Skills_Count'].describe())"
   ]
  },
  {
   "cell_type": "markdown",
   "id": "b5a193db",
   "metadata": {},
   "source": [
    "# Preprocesing"
   ]
  },
  {
   "cell_type": "code",
   "execution_count": 11,
   "id": "6eef3c71",
   "metadata": {},
   "outputs": [],
   "source": [
    "def clean_text(text):\n",
    "    \"\"\"Clean and standardize text data\"\"\"\n",
    "    if pd.isna(text):\n",
    "        return \"\"\n",
    "    \n",
    "    text = str(text).lower()\n",
    "    text = re.sub(r'[^a-zA-Z\\s]', '', text)  # Remove special chars\n",
    "    text = re.sub(r'\\s+', ' ', text).strip()  # Remove extra whitespace\n",
    "    return text"
   ]
  },
  {
   "cell_type": "code",
   "execution_count": 12,
   "id": "5419c04d",
   "metadata": {},
   "outputs": [],
   "source": [
    "def preprocess_data(df):\n",
    "    \"\"\"Main preprocessing function\"\"\"\n",
    "    # Clean text columns\n",
    "    text_cols = ['Skills', 'Education', 'Certifications', 'Job Role']\n",
    "    for col in text_cols:\n",
    "        df[col] = df[col].apply(clean_text)\n",
    "    \n",
    "    # Handle missing certifications\n",
    "    df['Certifications'] = df['Certifications'].fillna('none')\n",
    "    df['Certifications_Count'] = df['Certifications'].apply(\n",
    "        lambda x: 0 if x == 'none' else len(x.split(',')))\n",
    "    \n",
    "    # Create combined text feature\n",
    "    df['Combined_Text'] = (\n",
    "        \"Skills: \" + df['Skills'] + \n",
    "        \" | Education: \" + df['Education'] + \n",
    "        \" | Certifications: \" + df['Certifications'] + \n",
    "        \" | Job Role: \" + df['Job Role']\n",
    "    )\n",
    "    \n",
    "    # Convert recruiter decision to binary (for potential use)\n",
    "    df['Hired'] = df['Recruiter Decision'].apply(\n",
    "        lambda x: 1 if x.lower() in ['hired', 'selected'] else 0)\n",
    "    \n",
    "    return df"
   ]
  },
  {
   "cell_type": "code",
   "execution_count": 13,
   "id": "b4f968f1",
   "metadata": {},
   "outputs": [
    {
     "name": "stdout",
     "output_type": "stream",
     "text": [
      "\n",
      "Processed Features:\n"
     ]
    },
    {
     "data": {
      "text/html": [
       "<div>\n",
       "<style scoped>\n",
       "    .dataframe tbody tr th:only-of-type {\n",
       "        vertical-align: middle;\n",
       "    }\n",
       "\n",
       "    .dataframe tbody tr th {\n",
       "        vertical-align: top;\n",
       "    }\n",
       "\n",
       "    .dataframe thead th {\n",
       "        text-align: right;\n",
       "    }\n",
       "</style>\n",
       "<table border=\"1\" class=\"dataframe\">\n",
       "  <thead>\n",
       "    <tr style=\"text-align: right;\">\n",
       "      <th></th>\n",
       "      <th>Skills_Count</th>\n",
       "      <th>Certifications_Count</th>\n",
       "      <th>Combined_Text</th>\n",
       "      <th>Hired</th>\n",
       "    </tr>\n",
       "  </thead>\n",
       "  <tbody>\n",
       "    <tr>\n",
       "      <th>0</th>\n",
       "      <td>3</td>\n",
       "      <td>1</td>\n",
       "      <td>Skills: tensorflow nlp pytorch | Education: bs...</td>\n",
       "      <td>0</td>\n",
       "    </tr>\n",
       "    <tr>\n",
       "      <th>1</th>\n",
       "      <td>4</td>\n",
       "      <td>1</td>\n",
       "      <td>Skills: deep learning machine learning python ...</td>\n",
       "      <td>0</td>\n",
       "    </tr>\n",
       "    <tr>\n",
       "      <th>2</th>\n",
       "      <td>3</td>\n",
       "      <td>1</td>\n",
       "      <td>Skills: ethical hacking cybersecurity linux | ...</td>\n",
       "      <td>0</td>\n",
       "    </tr>\n",
       "  </tbody>\n",
       "</table>\n",
       "</div>"
      ],
      "text/plain": [
       "   Skills_Count  Certifications_Count  \\\n",
       "0             3                     1   \n",
       "1             4                     1   \n",
       "2             3                     1   \n",
       "\n",
       "                                       Combined_Text  Hired  \n",
       "0  Skills: tensorflow nlp pytorch | Education: bs...      0  \n",
       "1  Skills: deep learning machine learning python ...      0  \n",
       "2  Skills: ethical hacking cybersecurity linux | ...      0  "
      ]
     },
     "execution_count": 13,
     "metadata": {},
     "output_type": "execute_result"
    }
   ],
   "source": [
    "# Apply preprocessing\n",
    "processed_df = preprocess_data(df.copy())\n",
    "\n",
    "# Show processed features\n",
    "print(\"\\nProcessed Features:\")\n",
    "processed_df[['Skills_Count', 'Certifications_Count', 'Combined_Text', 'Hired']].head(3)"
   ]
  },
  {
   "cell_type": "code",
   "execution_count": 14,
   "id": "537a9d26",
   "metadata": {},
   "outputs": [],
   "source": [
    "# Prepare features and target\n",
    "numerical_features = processed_df[[\n",
    "    'Experience (Years)', \n",
    "    'Salary Expectation ($)', \n",
    "    'Projects Count',\n",
    "    'Skills_Count',\n",
    "    'Certifications_Count'\n",
    "]]\n",
    "\n",
    "target = processed_df['AI Score (0-100)']"
   ]
  },
  {
   "cell_type": "code",
   "execution_count": 15,
   "id": "7f6b0d4c",
   "metadata": {},
   "outputs": [
    {
     "name": "stdout",
     "output_type": "stream",
     "text": [
      "\n",
      "Data Splits:\n",
      "Train: (800, 5), Test: (200, 5)\n"
     ]
    }
   ],
   "source": [
    "# Normalize numerical features\n",
    "scaler = StandardScaler()\n",
    "scaled_features = scaler.fit_transform(numerical_features)\n",
    "\n",
    "# Split data\n",
    "X_train, X_test, y_train, y_test = train_test_split(\n",
    "    scaled_features,\n",
    "    target,\n",
    "    test_size=0.2,\n",
    "    random_state=42\n",
    ")\n",
    "\n",
    "print(f\"\\nData Splits:\")\n",
    "print(f\"Train: {X_train.shape}, Test: {X_test.shape}\")"
   ]
  },
  {
   "cell_type": "markdown",
   "id": "81512191",
   "metadata": {},
   "source": [
    "# Pemodelan"
   ]
  },
  {
   "cell_type": "code",
   "execution_count": 16,
   "id": "01e98ce3",
   "metadata": {},
   "outputs": [],
   "source": [
    "# Konfigurasi model\n",
    "MODEL_NAME = \"bert-base-uncased\"\n",
    "tokenizer = AutoTokenizer.from_pretrained(MODEL_NAME)"
   ]
  },
  {
   "cell_type": "code",
   "execution_count": 21,
   "id": "fd45d351",
   "metadata": {},
   "outputs": [],
   "source": [
    "class ResumeDataset(Dataset):\n",
    "    def __init__(self, texts, numerical_features, scores):\n",
    "        self.texts = texts\n",
    "        self.numerical = numerical_features\n",
    "        self.scores = scores\n",
    "        self.tokenizer = AutoTokenizer.from_pretrained(MODEL_NAME)\n",
    "        \n",
    "    def __len__(self):\n",
    "        return len(self.texts)\n",
    "    \n",
    "    def __getitem__(self, idx):\n",
    "        text = self.texts[idx]\n",
    "        inputs = self.tokenizer(\n",
    "            text,\n",
    "            truncation=True,\n",
    "            padding='max_length',\n",
    "            max_length=256,  # Reduced from 512 for efficiency\n",
    "            return_tensors=\"pt\"\n",
    "        )\n",
    "        \n",
    "        return {\n",
    "            'input_ids': inputs['input_ids'].flatten(),\n",
    "            'attention_mask': inputs['attention_mask'].flatten(),\n",
    "            'numerical': torch.FloatTensor(self.numerical[idx]),\n",
    "            'score': torch.FloatTensor([self.scores[idx]])\n",
    "        }"
   ]
  },
  {
   "cell_type": "code",
   "execution_count": 22,
   "id": "67d49d3f",
   "metadata": {},
   "outputs": [],
   "source": [
    "# Model Architecture\n",
    "class ResumeScoringModel(nn.Module):\n",
    "    def __init__(self, n_numerical_features):\n",
    "        super().__init__()\n",
    "        self.bert = AutoModel.from_pretrained(MODEL_NAME)\n",
    "        self.text_fc = nn.Linear(768, 64)\n",
    "        self.num_fc = nn.Linear(n_numerical_features, 32)\n",
    "        self.combined_fc = nn.Linear(64 + 32, 1)\n",
    "        self.dropout = nn.Dropout(0.2)\n",
    "        \n",
    "    def forward(self, input_ids, attention_mask, numerical):\n",
    "        # Text features\n",
    "        outputs = self.bert(input_ids=input_ids, attention_mask=attention_mask)\n",
    "        pooled_output = outputs.last_hidden_state.mean(dim=1)\n",
    "        text_features = self.text_fc(pooled_output)\n",
    "        \n",
    "        # Numerical features\n",
    "        num_features = self.num_fc(numerical)\n",
    "        \n",
    "        # Combine features\n",
    "        combined = torch.cat([text_features, num_features], dim=1)\n",
    "        combined = self.dropout(combined)\n",
    "        score = self.combined_fc(combined)\n",
    "        \n",
    "        return score"
   ]
  },
  {
   "cell_type": "code",
   "execution_count": 23,
   "id": "d7e0e1d9",
   "metadata": {},
   "outputs": [],
   "source": [
    "# Siapkan DataLoader\n",
    "train_texts = processed_df.iloc[y_train.index, :]['Combined_Text'].values\n",
    "test_texts = processed_df.iloc[y_test.index, :]['Combined_Text'].values\n",
    "\n",
    "train_dataset = ResumeDataset(train_texts, X_train, y_train.values)\n",
    "test_dataset = ResumeDataset(test_texts, X_test, y_test.values)\n",
    "\n",
    "train_loader = DataLoader(train_dataset, batch_size=16, shuffle=True)\n",
    "test_loader = DataLoader(test_dataset, batch_size=16)"
   ]
  },
  {
   "cell_type": "code",
   "execution_count": 24,
   "id": "82670a6f",
   "metadata": {},
   "outputs": [],
   "source": [
    "# Training Setup\n",
    "device = torch.device(\"cuda\" if torch.cuda.is_available() else \"cpu\")\n",
    "model = ResumeScoringModel(n_numerical_features=X_train.shape[1]).to(device)\n",
    "optimizer = torch.optim.AdamW(model.parameters(), lr=2e-5)\n",
    "criterion = nn.MSELoss()"
   ]
  },
  {
   "cell_type": "code",
   "execution_count": 25,
   "id": "ee204ba3",
   "metadata": {},
   "outputs": [],
   "source": [
    "def train_epoch(model, dataloader, optimizer, criterion):\n",
    "    model.train()\n",
    "    total_loss = 0\n",
    "    \n",
    "    for batch in tqdm(dataloader, desc=\"Training\"):\n",
    "        optimizer.zero_grad()\n",
    "        \n",
    "        input_ids = batch['input_ids'].to(device)\n",
    "        attention_mask = batch['attention_mask'].to(device)\n",
    "        numerical = batch['numerical'].to(device)\n",
    "        scores = batch['score'].to(device)\n",
    "        \n",
    "        outputs = model(input_ids, attention_mask, numerical)\n",
    "        loss = criterion(outputs, scores)\n",
    "        \n",
    "        loss.backward()\n",
    "        optimizer.step()\n",
    "        \n",
    "        total_loss += loss.item()\n",
    "    \n",
    "    return total_loss / len(dataloader)\n",
    "\n",
    "def evaluate(model, dataloader, criterion):\n",
    "    model.eval()\n",
    "    total_loss = 0\n",
    "    \n",
    "    with torch.no_grad():\n",
    "        for batch in tqdm(dataloader, desc=\"Evaluating\"):\n",
    "            input_ids = batch['input_ids'].to(device)\n",
    "            attention_mask = batch['attention_mask'].to(device)\n",
    "            numerical = batch['numerical'].to(device)\n",
    "            scores = batch['score'].to(device)\n",
    "            \n",
    "            outputs = model(input_ids, attention_mask, numerical)\n",
    "            loss = criterion(outputs, scores)\n",
    "            \n",
    "            total_loss += loss.item()\n",
    "    \n",
    "    return total_loss / len(dataloader)"
   ]
  },
  {
   "cell_type": "code",
   "execution_count": 26,
   "id": "3919efad",
   "metadata": {},
   "outputs": [
    {
     "name": "stderr",
     "output_type": "stream",
     "text": [
      "Training:   6%|▌         | 3/50 [03:02<47:36, 60.77s/it]\n"
     ]
    },
    {
     "ename": "KeyboardInterrupt",
     "evalue": "",
     "output_type": "error",
     "traceback": [
      "\u001b[1;31m---------------------------------------------------------------------------\u001b[0m",
      "\u001b[1;31mKeyboardInterrupt\u001b[0m                         Traceback (most recent call last)",
      "Cell \u001b[1;32mIn[26], line 8\u001b[0m\n\u001b[0;32m      5\u001b[0m val_losses \u001b[38;5;241m=\u001b[39m []\n\u001b[0;32m      7\u001b[0m \u001b[38;5;28;01mfor\u001b[39;00m epoch \u001b[38;5;129;01min\u001b[39;00m \u001b[38;5;28mrange\u001b[39m(NUM_EPOCHS):\n\u001b[1;32m----> 8\u001b[0m     train_loss \u001b[38;5;241m=\u001b[39m \u001b[43mtrain_epoch\u001b[49m\u001b[43m(\u001b[49m\u001b[43mmodel\u001b[49m\u001b[43m,\u001b[49m\u001b[43m \u001b[49m\u001b[43mtrain_loader\u001b[49m\u001b[43m,\u001b[49m\u001b[43m \u001b[49m\u001b[43moptimizer\u001b[49m\u001b[43m,\u001b[49m\u001b[43m \u001b[49m\u001b[43mcriterion\u001b[49m\u001b[43m)\u001b[49m\n\u001b[0;32m      9\u001b[0m     val_loss \u001b[38;5;241m=\u001b[39m evaluate(model, test_loader, criterion)\n\u001b[0;32m     11\u001b[0m     train_losses\u001b[38;5;241m.\u001b[39mappend(train_loss)\n",
      "Cell \u001b[1;32mIn[25], line 16\u001b[0m, in \u001b[0;36mtrain_epoch\u001b[1;34m(model, dataloader, optimizer, criterion)\u001b[0m\n\u001b[0;32m     13\u001b[0m outputs \u001b[38;5;241m=\u001b[39m model(input_ids, attention_mask, numerical)\n\u001b[0;32m     14\u001b[0m loss \u001b[38;5;241m=\u001b[39m criterion(outputs, scores)\n\u001b[1;32m---> 16\u001b[0m \u001b[43mloss\u001b[49m\u001b[38;5;241;43m.\u001b[39;49m\u001b[43mbackward\u001b[49m\u001b[43m(\u001b[49m\u001b[43m)\u001b[49m\n\u001b[0;32m     17\u001b[0m optimizer\u001b[38;5;241m.\u001b[39mstep()\n\u001b[0;32m     19\u001b[0m total_loss \u001b[38;5;241m+\u001b[39m\u001b[38;5;241m=\u001b[39m loss\u001b[38;5;241m.\u001b[39mitem()\n",
      "File \u001b[1;32mc:\\Users\\ASUS\\Downloads\\MBKM DataIns\\RAG CV\\.venv\\lib\\site-packages\\torch\\_tensor.py:648\u001b[0m, in \u001b[0;36mTensor.backward\u001b[1;34m(self, gradient, retain_graph, create_graph, inputs)\u001b[0m\n\u001b[0;32m    638\u001b[0m \u001b[38;5;28;01mif\u001b[39;00m has_torch_function_unary(\u001b[38;5;28mself\u001b[39m):\n\u001b[0;32m    639\u001b[0m     \u001b[38;5;28;01mreturn\u001b[39;00m handle_torch_function(\n\u001b[0;32m    640\u001b[0m         Tensor\u001b[38;5;241m.\u001b[39mbackward,\n\u001b[0;32m    641\u001b[0m         (\u001b[38;5;28mself\u001b[39m,),\n\u001b[1;32m   (...)\u001b[0m\n\u001b[0;32m    646\u001b[0m         inputs\u001b[38;5;241m=\u001b[39minputs,\n\u001b[0;32m    647\u001b[0m     )\n\u001b[1;32m--> 648\u001b[0m \u001b[43mtorch\u001b[49m\u001b[38;5;241;43m.\u001b[39;49m\u001b[43mautograd\u001b[49m\u001b[38;5;241;43m.\u001b[39;49m\u001b[43mbackward\u001b[49m\u001b[43m(\u001b[49m\n\u001b[0;32m    649\u001b[0m \u001b[43m    \u001b[49m\u001b[38;5;28;43mself\u001b[39;49m\u001b[43m,\u001b[49m\u001b[43m \u001b[49m\u001b[43mgradient\u001b[49m\u001b[43m,\u001b[49m\u001b[43m \u001b[49m\u001b[43mretain_graph\u001b[49m\u001b[43m,\u001b[49m\u001b[43m \u001b[49m\u001b[43mcreate_graph\u001b[49m\u001b[43m,\u001b[49m\u001b[43m \u001b[49m\u001b[43minputs\u001b[49m\u001b[38;5;241;43m=\u001b[39;49m\u001b[43minputs\u001b[49m\n\u001b[0;32m    650\u001b[0m \u001b[43m\u001b[49m\u001b[43m)\u001b[49m\n",
      "File \u001b[1;32mc:\\Users\\ASUS\\Downloads\\MBKM DataIns\\RAG CV\\.venv\\lib\\site-packages\\torch\\autograd\\__init__.py:353\u001b[0m, in \u001b[0;36mbackward\u001b[1;34m(tensors, grad_tensors, retain_graph, create_graph, grad_variables, inputs)\u001b[0m\n\u001b[0;32m    348\u001b[0m     retain_graph \u001b[38;5;241m=\u001b[39m create_graph\n\u001b[0;32m    350\u001b[0m \u001b[38;5;66;03m# The reason we repeat the same comment below is that\u001b[39;00m\n\u001b[0;32m    351\u001b[0m \u001b[38;5;66;03m# some Python versions print out the first line of a multi-line function\u001b[39;00m\n\u001b[0;32m    352\u001b[0m \u001b[38;5;66;03m# calls in the traceback and some print out the last line\u001b[39;00m\n\u001b[1;32m--> 353\u001b[0m \u001b[43m_engine_run_backward\u001b[49m\u001b[43m(\u001b[49m\n\u001b[0;32m    354\u001b[0m \u001b[43m    \u001b[49m\u001b[43mtensors\u001b[49m\u001b[43m,\u001b[49m\n\u001b[0;32m    355\u001b[0m \u001b[43m    \u001b[49m\u001b[43mgrad_tensors_\u001b[49m\u001b[43m,\u001b[49m\n\u001b[0;32m    356\u001b[0m \u001b[43m    \u001b[49m\u001b[43mretain_graph\u001b[49m\u001b[43m,\u001b[49m\n\u001b[0;32m    357\u001b[0m \u001b[43m    \u001b[49m\u001b[43mcreate_graph\u001b[49m\u001b[43m,\u001b[49m\n\u001b[0;32m    358\u001b[0m \u001b[43m    \u001b[49m\u001b[43minputs\u001b[49m\u001b[43m,\u001b[49m\n\u001b[0;32m    359\u001b[0m \u001b[43m    \u001b[49m\u001b[43mallow_unreachable\u001b[49m\u001b[38;5;241;43m=\u001b[39;49m\u001b[38;5;28;43;01mTrue\u001b[39;49;00m\u001b[43m,\u001b[49m\n\u001b[0;32m    360\u001b[0m \u001b[43m    \u001b[49m\u001b[43maccumulate_grad\u001b[49m\u001b[38;5;241;43m=\u001b[39;49m\u001b[38;5;28;43;01mTrue\u001b[39;49;00m\u001b[43m,\u001b[49m\n\u001b[0;32m    361\u001b[0m \u001b[43m\u001b[49m\u001b[43m)\u001b[49m\n",
      "File \u001b[1;32mc:\\Users\\ASUS\\Downloads\\MBKM DataIns\\RAG CV\\.venv\\lib\\site-packages\\torch\\autograd\\graph.py:824\u001b[0m, in \u001b[0;36m_engine_run_backward\u001b[1;34m(t_outputs, *args, **kwargs)\u001b[0m\n\u001b[0;32m    822\u001b[0m     unregister_hooks \u001b[38;5;241m=\u001b[39m _register_logging_hooks_on_whole_graph(t_outputs)\n\u001b[0;32m    823\u001b[0m \u001b[38;5;28;01mtry\u001b[39;00m:\n\u001b[1;32m--> 824\u001b[0m     \u001b[38;5;28;01mreturn\u001b[39;00m Variable\u001b[38;5;241m.\u001b[39m_execution_engine\u001b[38;5;241m.\u001b[39mrun_backward(  \u001b[38;5;66;03m# Calls into the C++ engine to run the backward pass\u001b[39;00m\n\u001b[0;32m    825\u001b[0m         t_outputs, \u001b[38;5;241m*\u001b[39margs, \u001b[38;5;241m*\u001b[39m\u001b[38;5;241m*\u001b[39mkwargs\n\u001b[0;32m    826\u001b[0m     )  \u001b[38;5;66;03m# Calls into the C++ engine to run the backward pass\u001b[39;00m\n\u001b[0;32m    827\u001b[0m \u001b[38;5;28;01mfinally\u001b[39;00m:\n\u001b[0;32m    828\u001b[0m     \u001b[38;5;28;01mif\u001b[39;00m attach_logging_hooks:\n",
      "\u001b[1;31mKeyboardInterrupt\u001b[0m: "
     ]
    }
   ],
   "source": [
    "# Jalankan Training\n",
    "NUM_EPOCHS = 3\n",
    "best_loss = float('inf')\n",
    "train_losses = []\n",
    "val_losses = []\n",
    "\n",
    "for epoch in range(NUM_EPOCHS):\n",
    "    train_loss = train_epoch(model, train_loader, optimizer, criterion)\n",
    "    val_loss = evaluate(model, test_loader, criterion)\n",
    "    \n",
    "    train_losses.append(train_loss)\n",
    "    val_losses.append(val_loss)\n",
    "    \n",
    "    print(f\"\\nEpoch {epoch+1}/{NUM_EPOCHS}\")\n",
    "    print(f\"Train Loss: {train_loss:.4f} | Val Loss: {val_loss:.4f}\")\n",
    "    \n",
    "    if val_loss < best_loss:\n",
    "        best_loss = val_loss\n",
    "        torch.save(model.state_dict(), \"../models/resume_scoring/best_model.pt\")\n",
    "        print(\"Best model saved!\")"
   ]
  },
  {
   "cell_type": "code",
   "execution_count": null,
   "id": "3de92e78",
   "metadata": {},
   "outputs": [],
   "source": [
    "# Plot training history\n",
    "plt.figure(figsize=(10, 6))\n",
    "plt.plot(train_losses, label='Train Loss')\n",
    "plt.plot(val_losses, label='Validation Loss')\n",
    "plt.title('Training History')\n",
    "plt.xlabel('Epoch')\n",
    "plt.ylabel('Loss')\n",
    "plt.legend()\n",
    "plt.show()"
   ]
  },
  {
   "cell_type": "markdown",
   "id": "4ebc5f4b",
   "metadata": {},
   "source": [
    "# Evaluasi"
   ]
  },
  {
   "cell_type": "code",
   "execution_count": null,
   "id": "21f44800",
   "metadata": {},
   "outputs": [],
   "source": [
    "from sklearn.metrics import mean_absolute_error, mean_squared_error, r2_score\n",
    "\n",
    "def predict(model, dataloader):\n",
    "    model.eval()\n",
    "    all_preds = []\n",
    "    all_true = []\n",
    "    \n",
    "    with torch.no_grad():\n",
    "        for batch in tqdm(dataloader, desc=\"Predicting\"):\n",
    "            input_ids = batch['input_ids'].to(device)\n",
    "            attention_mask = batch['attention_mask'].to(device)\n",
    "            numerical = batch['numerical'].to(device)\n",
    "            scores = batch['score'].to(device)\n",
    "            \n",
    "            outputs = model(input_ids, attention_mask, numerical)\n",
    "            \n",
    "            all_preds.extend(outputs.cpu().numpy().flatten())\n",
    "            all_true.extend(scores.cpu().numpy().flatten())\n",
    "    \n",
    "    return all_preds, all_true"
   ]
  },
  {
   "cell_type": "code",
   "execution_count": null,
   "id": "b1c3e087",
   "metadata": {},
   "outputs": [],
   "source": [
    "# Load best model and predict\n",
    "model.load_state_dict(torch.load(\"../models/resume_scoring/best_model.pt\"))\n",
    "predictions, true_values = predict(model, test_loader)"
   ]
  },
  {
   "cell_type": "code",
   "execution_count": null,
   "id": "f292de48",
   "metadata": {},
   "outputs": [],
   "source": [
    "# Hitung metrik\n",
    "mae = mean_absolute_error(true_values, predictions)\n",
    "mse = mean_squared_error(true_values, predictions)\n",
    "rmse = np.sqrt(mse)\n",
    "r2 = r2_score(true_values, predictions)\n",
    "\n",
    "print(\"\\nEvaluation Metrics:\")\n",
    "print(f\"MAE: {mae:.2f}\")\n",
    "print(f\"MSE: {mse:.2f}\")\n",
    "print(f\"RMSE: {rmse:.2f}\")\n",
    "print(f\"R2 Score: {r2:.4f}\")"
   ]
  },
  {
   "cell_type": "code",
   "execution_count": null,
   "id": "6263d753",
   "metadata": {},
   "outputs": [],
   "source": [
    "# Visualisasi prediksi vs aktual\n",
    "plt.figure(figsize=(10, 10))\n",
    "plt.scatter(true_values, predictions, alpha=0.5)\n",
    "plt.plot([0, 100], [0, 100], 'r--')  # Perfect prediction line\n",
    "plt.xlabel('True Scores')\n",
    "plt.ylabel('Predicted Scores')\n",
    "plt.title('True vs Predicted Scores')\n",
    "plt.show()"
   ]
  },
  {
   "cell_type": "code",
   "execution_count": null,
   "id": "510cea10",
   "metadata": {},
   "outputs": [],
   "source": [
    "# Feature importance analysis (example with numerical features)\n",
    "feature_importance = pd.DataFrame({\n",
    "    'Feature': numerical_features.columns,\n",
    "    'Importance': np.abs(model.num_fc.weight[0].detach().cpu().numpy())\n",
    "}).sort_values('Importance', ascending=False)\n",
    "\n",
    "plt.figure(figsize=(10, 6))\n",
    "sns.barplot(x='Importance', y='Feature', data=feature_importance)\n",
    "plt.title('Feature Importance (Numerical Features)')\n",
    "plt.show()"
   ]
  },
  {
   "cell_type": "markdown",
   "id": "3aa4c657",
   "metadata": {},
   "source": [
    "# Save Model"
   ]
  },
  {
   "cell_type": "code",
   "execution_count": null,
   "id": "4113b39d",
   "metadata": {},
   "outputs": [],
   "source": [
    "import joblib\n",
    "import os\n",
    "\n",
    "# Buat direktori jika belum ada\n",
    "os.makedirs(\"../models/resume_scoring\", exist_ok=True)\n",
    "os.makedirs(\"../models/preprocessing\", exist_ok=True)\n",
    "\n",
    "# Simpan model dan preprocessing artifacts\n",
    "torch.save(model.state_dict(), \"../models/resume_scoring/best_model.pt\")\n",
    "joblib.dump(scaler, \"../models/preprocessing/scaler.joblib\")\n",
    "tokenizer.save_pretrained(\"../models/preprocessing/tokenizer\")"
   ]
  },
  {
   "cell_type": "code",
   "execution_count": null,
   "id": "57d716e2",
   "metadata": {},
   "outputs": [],
   "source": [
    "# Simpan config\n",
    "model_config = {\n",
    "    \"model_name\": MODEL_NAME,\n",
    "    \"numerical_features\": list(numerical_features.columns),\n",
    "    \"text_features\": \"Combined_Text\",\n",
    "    \"target_range\": [0, 100],\n",
    "    \"input_length\": 256\n",
    "}\n",
    "\n",
    "import json\n",
    "with open(\"../models/resume_scoring/config.json\", \"w\") as f:\n",
    "    json.dump(model_config, f)\n",
    "\n",
    "print(\"\\nModel dan artifacts berhasil disimpan!\")"
   ]
  }
 ],
 "metadata": {
  "kernelspec": {
   "display_name": ".venv",
   "language": "python",
   "name": "python3"
  },
  "language_info": {
   "codemirror_mode": {
    "name": "ipython",
    "version": 3
   },
   "file_extension": ".py",
   "mimetype": "text/x-python",
   "name": "python",
   "nbconvert_exporter": "python",
   "pygments_lexer": "ipython3",
   "version": "3.10.11"
  }
 },
 "nbformat": 4,
 "nbformat_minor": 5
}
